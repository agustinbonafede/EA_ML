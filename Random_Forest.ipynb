{
 "cells": [
  {
   "cell_type": "markdown",
   "metadata": {},
   "source": [
    "# Random Forest Classifier"
   ]
  },
  {
   "cell_type": "code",
   "execution_count": 1,
   "metadata": {},
   "outputs": [],
   "source": [
    "import pandas as pd\n",
    "import matplotlib.pyplot as plt\n",
    "import seaborn as sns\n",
    "from funciones_mecanizados import normalizar\n",
    "from funciones_mecanizados import cortar\n",
    "\n",
    "from sklearn.model_selection import StratifiedShuffleSplit\n",
    "from sklearn.utils import shuffle\n",
    "from sklearn.metrics import accuracy_score\n",
    "from sklearn.tree import DecisionTreeClassifier\n",
    "from sklearn.ensemble import RandomForestClassifier\n",
    "from sklearn.model_selection import GridSearchCV\n",
    "from sklearn import metrics\n",
    "\n",
    "\n",
    "from sklearn.metrics import confusion_matrix\n",
    "from sklearn.metrics import classification_report\n",
    "\n",
    "from sklearn.tree import export_graphviz\n",
    "from pydotplus import graph_from_dot_data"
   ]
  },
  {
   "cell_type": "code",
   "execution_count": 2,
   "metadata": {},
   "outputs": [],
   "source": [
    "# Cargamos el dataset preprocesado.\n",
    "h1_norm = pd.read_csv('data/panel1_H1_norm.csv')\n",
    "h2_norm = pd.read_csv('data/panel2_H2_norm.csv')\n",
    "h3_norm = pd.read_csv('data/panel1_H3_norm.csv')\n",
    "\n",
    "#Elminamos el ruido\n",
    "nivel_filtro = 0\n",
    "data = [h1_norm, h2_norm,h3_norm]\n",
    "for dat in data:\n",
    "    dat.drop(dat[dat['ENER']<nivel_filtro].index, axis=0, inplace=True)\n",
    "\n",
    "\n",
    "columnas = ['RMS','AMP','ENER','P_FRQ','PCNTS','C_FRQ', 'I_FRQ','A_FRQ','P_MARSE',\n",
    "        'R_FRQ','DURATION','ASL','COUN','ABS_ENERGY', 'SIG_STRNGTH','RISE']\n",
    "\n",
    "\n",
    "mecanizados = pd.concat([h1_norm, h2_norm, h3_norm])\n",
    "mecanizados.reset_index(drop=True, inplace=True)\n",
    "\n",
    "#Nos quedamos con algunos datos del fresado\n",
    "#corte1 = [0,2]\n",
    "#corte2 = [2,2.6]\n",
    "\n",
    "#fresado_h1 = pd.concat([cortar(h1_norm, corte1), cortar(h1_norm, corte2)])\n",
    "#fresado_h2 = pd.concat([cortar(h2_norm, corte1), cortar(h2_norm, corte2)])\n",
    "#fresado_h3 = pd.concat([cortar(h3_norm, corte1), cortar(h3_norm, corte2)])\n",
    "\n",
    "#print('H1:',fresado_h1.shape)\n",
    "#print('H2:',fresado_h2.shape)\n",
    "#print('H3:',fresado_h3.shape)"
   ]
  },
  {
   "cell_type": "code",
   "execution_count": 3,
   "metadata": {},
   "outputs": [],
   "source": [
    "#Juntamos todos los datos en un solo DF\n",
    "#fresado = pd.concat([fresado_h1, fresado_h2, fresado_h3])"
   ]
  },
  {
   "cell_type": "markdown",
   "metadata": {},
   "source": [
    "### TRAIN/TEST SPLIT"
   ]
  },
  {
   "cell_type": "code",
   "execution_count": 4,
   "metadata": {},
   "outputs": [],
   "source": [
    "\n",
    "train_test_split = StratifiedShuffleSplit(n_splits=1, test_size=.20, random_state=11)\n",
    "\n",
    "for train_index, test_index in train_test_split.split(mecanizados, mecanizados['Herramienta']):\n",
    "    train = mecanizados.iloc[train_index]\n",
    "    test = mecanizados.iloc[test_index]"
   ]
  },
  {
   "cell_type": "code",
   "execution_count": 5,
   "metadata": {
    "scrolled": true
   },
   "outputs": [
    {
     "name": "stdout",
     "output_type": "stream",
     "text": [
      "Datos totales: 9014\n",
      "Train:         7211\n",
      "Test:          1803\n"
     ]
    }
   ],
   "source": [
    "print('Datos totales:',mecanizados.shape[0])\n",
    "print('Train:        ',train.shape[0])\n",
    "print('Test:         ',test.shape[0])"
   ]
  },
  {
   "cell_type": "code",
   "execution_count": 6,
   "metadata": {},
   "outputs": [],
   "source": [
    "#Datos para la validación cruzada\n",
    "#Hacemos una copia y eliminamos las variables que no vamos a usar.\n",
    "\n",
    "X = train.copy()\n",
    "y = X.pop('Herramienta')\n",
    "X.drop(['CH','Tiempo', 'Mecanizado'], axis=1, inplace=True)"
   ]
  },
  {
   "cell_type": "code",
   "execution_count": 7,
   "metadata": {},
   "outputs": [],
   "source": [
    "#Datos para entrenar y probar el modelo.\n",
    "y_train = train.Herramienta\n",
    "y_test = test.Herramienta\n",
    "\n",
    "X_train = train[columnas]\n",
    "X_test = test[columnas]"
   ]
  },
  {
   "cell_type": "markdown",
   "metadata": {},
   "source": [
    "## Modelos"
   ]
  },
  {
   "cell_type": "markdown",
   "metadata": {},
   "source": [
    "### Simple sin ajustes"
   ]
  },
  {
   "cell_type": "code",
   "execution_count": 8,
   "metadata": {
    "scrolled": true
   },
   "outputs": [
    {
     "name": "stdout",
     "output_type": "stream",
     "text": [
      "################# Puntuación ##################\n",
      "################### 1.0 ####################\n",
      "    H1_predicción  H2_predicción  H3_predicción\n",
      "H1           2486              0              0\n",
      "H2              0           2328              0\n",
      "H3              0              0           2397\n",
      "\n",
      "\n",
      "#####################################################\n",
      "##################### Scores ########################\n",
      "#####################################################\n",
      "\n",
      "              precision    recall  f1-score   support\n",
      "\n",
      "          H1       1.00      1.00      1.00      2486\n",
      "          H2       1.00      1.00      1.00      2328\n",
      "          H3       1.00      1.00      1.00      2397\n",
      "\n",
      "    accuracy                           1.00      7211\n",
      "   macro avg       1.00      1.00      1.00      7211\n",
      "weighted avg       1.00      1.00      1.00      7211\n",
      "\n"
     ]
    }
   ],
   "source": [
    "RFCmodel_ = RandomForestClassifier(random_state = 14)\n",
    "RFCmodel_.fit(X_train, y_train)\n",
    "\n",
    "prediccion_ = RFCmodel_.predict(X_train)\n",
    "\n",
    "\n",
    "score_ = round(accuracy_score(y_train, prediccion_),4)\n",
    "print('################# Puntuación ##################')\n",
    "print('###################',score_,'####################')\n",
    "\n",
    "#Matriz de confusión\n",
    "conf_matrix = confusion_matrix(y_train, prediccion_,labels=['H1','H2','H3'])\n",
    "print(pd.DataFrame(data=conf_matrix, index=['H1','H2','H3'], columns=['H1_predicción','H2_predicción','H3_predicción']))\n",
    "\n",
    "print('')\n",
    "print('')\n",
    "print('#####################################################')\n",
    "print('##################### Scores ########################')\n",
    "print('#####################################################')\n",
    "print('')\n",
    "\n",
    "#Scores\n",
    "print (classification_report(y_train, prediccion_))"
   ]
  },
  {
   "cell_type": "code",
   "execution_count": 9,
   "metadata": {},
   "outputs": [
    {
     "name": "stdout",
     "output_type": "stream",
     "text": [
      "################# Puntuación ##################\n",
      "################### 0.9268 ####################\n",
      "    H1_predicción  H2_predicción  H3_predicción\n",
      "H1            582             17             23\n",
      "H2             25            539             18\n",
      "H3             27             22            550\n",
      "\n",
      "\n",
      "#####################################################\n",
      "##################### Scores ########################\n",
      "#####################################################\n",
      "\n",
      "              precision    recall  f1-score   support\n",
      "\n",
      "          H1       0.92      0.94      0.93       622\n",
      "          H2       0.93      0.93      0.93       582\n",
      "          H3       0.93      0.92      0.92       599\n",
      "\n",
      "    accuracy                           0.93      1803\n",
      "   macro avg       0.93      0.93      0.93      1803\n",
      "weighted avg       0.93      0.93      0.93      1803\n",
      "\n"
     ]
    }
   ],
   "source": [
    "prediccion_ = RFCmodel_.predict(X_test)\n",
    "\n",
    "\n",
    "score_ = round(accuracy_score(y_test, prediccion_),4)\n",
    "print('################# Puntuación ##################')\n",
    "print('###################',score_,'####################')\n",
    "\n",
    "#Matriz de confusión\n",
    "conf_matrix = confusion_matrix(y_test, prediccion_,labels=['H1','H2','H3'])\n",
    "print(pd.DataFrame(data=conf_matrix, index=['H1','H2','H3'], columns=['H1_predicción','H2_predicción','H3_predicción']))\n",
    "\n",
    "print('')\n",
    "print('')\n",
    "print('#####################################################')\n",
    "print('##################### Scores ########################')\n",
    "print('#####################################################')\n",
    "print('')\n",
    "\n",
    "#Scores\n",
    "print (classification_report(y_test, prediccion_))"
   ]
  },
  {
   "cell_type": "markdown",
   "metadata": {},
   "source": [
    "### Ajuste de los Hiperparámetros"
   ]
  },
  {
   "cell_type": "code",
   "execution_count": 10,
   "metadata": {
    "scrolled": true
   },
   "outputs": [
    {
     "name": "stdout",
     "output_type": "stream",
     "text": [
      "Fitting 5 folds for each of 30 candidates, totalling 150 fits\n"
     ]
    },
    {
     "name": "stderr",
     "output_type": "stream",
     "text": [
      "[Parallel(n_jobs=-1)]: Using backend LokyBackend with 4 concurrent workers.\n",
      "[Parallel(n_jobs=-1)]: Done  33 tasks      | elapsed:  2.8min\n",
      "[Parallel(n_jobs=-1)]: Done 150 out of 150 | elapsed: 18.7min finished\n"
     ]
    },
    {
     "name": "stdout",
     "output_type": "stream",
     "text": [
      "{'criterion': 'entropy', 'max_depth': None, 'max_features': 13, 'n_estimators': 250} : 0.9412335412335413\n"
     ]
    }
   ],
   "source": [
    "grilla_parametros =  {'n_estimators': [240,250,260],\n",
    "              'max_features': [12,13,14,15,16],\n",
    "              'max_depth'   : [None],\n",
    "              'criterion'   : ['gini', 'entropy']\n",
    "             }\n",
    "\n",
    "\n",
    "kf= StratifiedShuffleSplit(n_splits=5, test_size=.20, random_state=11)\n",
    "\n",
    "clasificador = GridSearchCV(RandomForestClassifier(random_state = 14),\n",
    "                            param_grid=grilla_parametros, \n",
    "                            cv=kf,\n",
    "                            verbose=2, \n",
    "                            n_jobs=-1\n",
    "                           )\n",
    "clasificador.fit(X_train, y_train)\n",
    "\n",
    "print(clasificador.best_params_, \":\", clasificador.best_score_)"
   ]
  },
  {
   "cell_type": "code",
   "execution_count": 11,
   "metadata": {
    "scrolled": true
   },
   "outputs": [
    {
     "name": "stdout",
     "output_type": "stream",
     "text": [
      "1.0\n",
      "################# Puntuación ##################\n",
      "################### 1.0 ####################\n",
      "    H1_predicción  H2_predicción  H3_predicción\n",
      "H1           2486              0              0\n",
      "H2              0           2328              0\n",
      "H3              0              0           2397\n",
      "\n",
      "\n",
      "#####################################################\n",
      "##################### Scores ########################\n",
      "#####################################################\n",
      "\n",
      "              precision    recall  f1-score   support\n",
      "\n",
      "          H1       1.00      1.00      1.00      2486\n",
      "          H2       1.00      1.00      1.00      2328\n",
      "          H3       1.00      1.00      1.00      2397\n",
      "\n",
      "    accuracy                           1.00      7211\n",
      "   macro avg       1.00      1.00      1.00      7211\n",
      "weighted avg       1.00      1.00      1.00      7211\n",
      "\n"
     ]
    }
   ],
   "source": [
    "forest_model = RandomForestClassifier(n_estimators=clasificador.best_params_['n_estimators'], \n",
    "                                      max_features=clasificador.best_params_['max_features'], \n",
    "                                      criterion=clasificador.best_params_['criterion'], \n",
    "                                      max_depth=None, random_state = 14)\n",
    "forest_model.fit(X_train, y_train)\n",
    "prediccion = forest_model.predict(X_train)\n",
    "print(accuracy_score(y_train, prediccion))\n",
    "\n",
    "score_ = round(accuracy_score(y_train, prediccion),4)\n",
    "print('################# Puntuación ##################')\n",
    "print('###################',score_,'####################')\n",
    "\n",
    "#Matriz de confusión\n",
    "conf_matrix = confusion_matrix(y_train, prediccion,labels=['H1','H2','H3'])\n",
    "print(pd.DataFrame(data=conf_matrix, index=['H1','H2','H3'], columns=['H1_predicción','H2_predicción','H3_predicción']))\n",
    "\n",
    "print('')\n",
    "print('')\n",
    "print('#####################################################')\n",
    "print('##################### Scores ########################')\n",
    "print('#####################################################')\n",
    "print('')\n",
    "\n",
    "#Scores\n",
    "print (classification_report(y_train, prediccion))"
   ]
  },
  {
   "cell_type": "code",
   "execution_count": 12,
   "metadata": {},
   "outputs": [
    {
     "name": "stdout",
     "output_type": "stream",
     "text": [
      "0.9517470881863561\n",
      "################# Puntuación ##################\n",
      "################### 0.9517 ####################\n",
      "    H1_predicción  H2_predicción  H3_predicción\n",
      "H1            595              7             20\n",
      "H2             15            554             13\n",
      "H3             14             18            567\n",
      "\n",
      "\n",
      "#####################################################\n",
      "##################### Scores ########################\n",
      "#####################################################\n",
      "\n",
      "              precision    recall  f1-score   support\n",
      "\n",
      "          H1       0.95      0.96      0.96       622\n",
      "          H2       0.96      0.95      0.95       582\n",
      "          H3       0.94      0.95      0.95       599\n",
      "\n",
      "    accuracy                           0.95      1803\n",
      "   macro avg       0.95      0.95      0.95      1803\n",
      "weighted avg       0.95      0.95      0.95      1803\n",
      "\n"
     ]
    }
   ],
   "source": [
    "# Vemos como funciona nuestro modelo con datos que nunca vio\n",
    "prediccion = forest_model.predict(X_test)\n",
    "print(accuracy_score(y_test, prediccion))\n",
    "\n",
    "score_ = round(accuracy_score(y_test, prediccion),4)\n",
    "print('################# Puntuación ##################')\n",
    "print('###################',score_,'####################')\n",
    "\n",
    "#Matriz de confusión\n",
    "conf_matrix = confusion_matrix(y_test, prediccion,labels=['H1','H2','H3'])\n",
    "print(pd.DataFrame(data=conf_matrix, index=['H1','H2','H3'], columns=['H1_predicción','H2_predicción','H3_predicción']))\n",
    "\n",
    "print('')\n",
    "print('')\n",
    "print('#####################################################')\n",
    "print('##################### Scores ########################')\n",
    "print('#####################################################')\n",
    "print('')\n",
    "\n",
    "#Scores\n",
    "print (classification_report(y_test, prediccion))"
   ]
  },
  {
   "cell_type": "code",
   "execution_count": 15,
   "metadata": {
    "scrolled": false
   },
   "outputs": [
    {
     "name": "stdout",
     "output_type": "stream",
     "text": [
      "Puntaje de los parámetros:\n",
      "1. Parámetro 3 (0.302944)\n",
      "2. Parámetro 6 (0.139622)\n",
      "3. Parámetro 11 (0.084894)\n",
      "4. Parámetro 1 (0.064586)\n",
      "5. Parámetro 0 (0.056457)\n",
      "6. Parámetro 8 (0.054658)\n",
      "7. Parámetro 7 (0.048471)\n",
      "8. Parámetro 10 (0.047654)\n",
      "9. Parámetro 13 (0.045323)\n",
      "10. Parámetro 12 (0.039924)\n",
      "11. Parámetro 5 (0.028897)\n",
      "12. Parámetro 9 (0.023444)\n",
      "13. Parámetro 15 (0.019488)\n",
      "14. Parámetro 4 (0.015440)\n",
      "15. Parámetro 2 (0.014928)\n",
      "16. Parámetro 14 (0.013269)\n"
     ]
    },
    {
     "data": {
      "image/png": "[encoded data removed]",
      "text/plain": [
       "<Figure size 720x432 with 1 Axes>"
      ]
     },
     "metadata": {
      "needs_background": "light"
     },
     "output_type": "display_data"
    }
   ],
   "source": [
    "import numpy as np\n",
    "importances = forest_model.feature_importances_\n",
    "\n",
    "indices = np.argsort(importances)[::-1]\n",
    "\n",
    "# Print the feature ranking\n",
    "print(\"Puntaje de los parámetros:\")\n",
    "\n",
    "for f in range(X.shape[1]-1):\n",
    "    print(\"%d. Parámetro %d (%f)\" % (f + 1, indices[f], importances[indices[f]]))\n",
    "\n",
    "# Plot the impurity-based feature importances of the forest\n",
    "plt.figure(figsize=(10,6))\n",
    "\n",
    "plt.bar(X.columns[indices], importances[indices], color=\"r\", align=\"center\")\n",
    "plt.xticks(X.columns[indices], rotation=90)\n",
    "plt.xlim([-1, X.shape[1]-1])\n",
    "plt.xticks(fontsize=14)\n",
    "plt.yticks(fontsize=14)\n",
    "plt.show()"
   ]
  }
 ],
 "metadata": {
  "kernelspec": {
   "display_name": "Python 3",
   "language": "python",
   "name": "python3"
  },
  "language_info": {
   "codemirror_mode": {
    "name": "ipython",
    "version": 3
   },
   "file_extension": ".py",
   "mimetype": "text/x-python",
   "name": "python",
   "nbconvert_exporter": "python",
   "pygments_lexer": "ipython3",
   "version": "3.6.12"
  }
 },
 "nbformat": 4,
 "nbformat_minor": 4
}
