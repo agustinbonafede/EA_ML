{
 "cells": [
  {
   "cell_type": "markdown",
   "metadata": {},
   "source": [
    "# SVM"
   ]
  },
  {
   "cell_type": "code",
   "execution_count": 1,
   "metadata": {},
   "outputs": [],
   "source": [
    "import pandas as pd\n",
    "import matplotlib.pyplot as plt\n",
    "import seaborn as sns\n",
    "from funciones_mecanizados import normalizar\n",
    "from funciones_mecanizados import cortar\n",
    "\n",
    "from sklearn.model_selection import StratifiedShuffleSplit\n",
    "from sklearn.utils import shuffle\n",
    "from sklearn.metrics import accuracy_score\n",
    "from sklearn.model_selection import GridSearchCV\n",
    "from sklearn.svm import SVC\n",
    "from sklearn import metrics\n",
    "\n",
    "from sklearn.metrics import confusion_matrix\n",
    "from sklearn.metrics import classification_report"
   ]
  },
  {
   "cell_type": "code",
   "execution_count": 2,
   "metadata": {},
   "outputs": [],
   "source": [
    "# Cargamos el dataset preprocesado.\n",
    "h1_norm = pd.read_csv('data/panel1_H1_norm.csv')\n",
    "h2_norm = pd.read_csv('data/panel2_H2_norm.csv')\n",
    "h3_norm = pd.read_csv('data/panel1_H3_norm.csv')\n",
    " \n",
    "#Elminamos el ruido\n",
    "nivel_filtro = 0\n",
    "data = [h1_norm, h2_norm, h3_norm]\n",
    "for dat in data:\n",
    "    dat.drop(dat[dat['ENER']<nivel_filtro].index, axis=0, inplace=True)\n",
    "    \n",
    "#Nos quedamos con algunos datos del fresado\n",
    "#corte1 = [0,2]\n",
    "#corte2 = [2,2.6]\n",
    "\n",
    "#fresado_h1 = pd.concat([cortar(h1_norm, corte1), cortar(h1_norm, corte2)])\n",
    "#fresado_h2 = pd.concat([cortar(h2_norm, corte1), cortar(h2_norm, corte2)])\n",
    "#fresado_h3 = pd.concat([cortar(h3_norm, corte1), cortar(h3_norm, corte2)])\n",
    "\n",
    "#print('H1:',fresado_h1.shape)\n",
    "#print('H2:',fresado_h2.shape)\n",
    "#print('H3:',fresado_h3.shape)\n",
    "#Juntamos todos los datos en un solo DF\n",
    "#H = pd.concat([fresado_h1, fresado_h2, fresado_h3])\n",
    "\n",
    "mecanizados = pd.concat([h1_norm, h2_norm, h3_norm])\n",
    "mecanizados.reset_index(drop=True, inplace=True)"
   ]
  },
  {
   "cell_type": "markdown",
   "metadata": {},
   "source": [
    "### TRAIN/TEST SPLIT"
   ]
  },
  {
   "cell_type": "code",
   "execution_count": 3,
   "metadata": {},
   "outputs": [],
   "source": [
    "columnas = ['RMS','AMP','ENER','P_FRQ','PCNTS','C_FRQ', 'I_FRQ','A_FRQ','R_FRQ',\n",
    "           'DURATION','ASL','COUN','ABS_ENERGY', 'SIG_STRNGTH','RISE', 'P_MARSE']"
   ]
  },
  {
   "cell_type": "code",
   "execution_count": 4,
   "metadata": {},
   "outputs": [],
   "source": [
    "\n",
    "train_test_split = StratifiedShuffleSplit(n_splits=1, test_size=.20, random_state=11)\n",
    "\n",
    "for train_index, test_index in train_test_split.split(mecanizados, mecanizados['Herramienta']):\n",
    "    train = mecanizados.iloc[train_index]\n",
    "    test = mecanizados.iloc[test_index]"
   ]
  },
  {
   "cell_type": "code",
   "execution_count": 5,
   "metadata": {},
   "outputs": [],
   "source": [
    "#Datos para entrenar y probar el modelo.\n",
    "y_train = train.Herramienta\n",
    "y_test = test.Herramienta\n",
    "\n",
    "X_train = train[columnas]\n",
    "X_test = test[columnas]"
   ]
  },
  {
   "cell_type": "markdown",
   "metadata": {},
   "source": [
    "### Modelos"
   ]
  },
  {
   "cell_type": "code",
   "execution_count": 6,
   "metadata": {
    "scrolled": true
   },
   "outputs": [
    {
     "name": "stdout",
     "output_type": "stream",
     "text": [
      "################# Puntuación ##################\n",
      "################### 0.7199 ####################\n",
      "    H1_predicción  H2_predicción  H3_predicción\n",
      "H1            474             34            114\n",
      "H2            103            379            100\n",
      "H3            108             46            445\n",
      "\n",
      "\n",
      "#####################################################\n",
      "##################### Scores ########################\n",
      "#####################################################\n",
      "\n",
      "              precision    recall  f1-score   support\n",
      "\n",
      "          H1       0.69      0.76      0.73       622\n",
      "          H2       0.83      0.65      0.73       582\n",
      "          H3       0.68      0.74      0.71       599\n",
      "\n",
      "    accuracy                           0.72      1803\n",
      "   macro avg       0.73      0.72      0.72      1803\n",
      "weighted avg       0.73      0.72      0.72      1803\n",
      "\n"
     ]
    }
   ],
   "source": [
    "clf = SVC(random_state=14)\n",
    "clf.fit(X_train, y_train)\n",
    "prediccion_ =clf.predict(X_test)\n",
    "\n",
    "score_ = round(accuracy_score(y_test, prediccion_),4)\n",
    "print('################# Puntuación ##################')\n",
    "print('###################',score_,'####################')\n",
    "\n",
    "#Matriz de confusión\n",
    "conf_matrix = confusion_matrix(y_test, prediccion_,labels=['H1','H2','H3'])\n",
    "print(pd.DataFrame(data=conf_matrix, index=['H1','H2','H3'], columns=['H1_predicción','H2_predicción','H3_predicción']))\n",
    "\n",
    "print('')\n",
    "print('')\n",
    "print('#####################################################')\n",
    "print('##################### Scores ########################')\n",
    "print('#####################################################')\n",
    "print('')\n",
    "\n",
    "#Scores\n",
    "print (classification_report(y_test, prediccion_))"
   ]
  },
  {
   "cell_type": "markdown",
   "metadata": {},
   "source": [
    "### Ajuste de los hiperparámetros"
   ]
  },
  {
   "cell_type": "code",
   "execution_count": 7,
   "metadata": {
    "scrolled": true
   },
   "outputs": [
    {
     "name": "stdout",
     "output_type": "stream",
     "text": [
      "Fitting 5 folds for each of 16 candidates, totalling 80 fits\n",
      "[CV] C=500, gamma=0.1, kernel=rbf ....................................\n"
     ]
    },
    {
     "name": "stderr",
     "output_type": "stream",
     "text": [
      "[Parallel(n_jobs=1)]: Using backend SequentialBackend with 1 concurrent workers.\n"
     ]
    },
    {
     "name": "stdout",
     "output_type": "stream",
     "text": [
      "[CV] ........ C=500, gamma=0.1, kernel=rbf, score=0.793, total=   3.3s\n",
      "[CV] C=500, gamma=0.1, kernel=rbf ....................................\n"
     ]
    },
    {
     "name": "stderr",
     "output_type": "stream",
     "text": [
      "[Parallel(n_jobs=1)]: Done   1 out of   1 | elapsed:    3.3s remaining:    0.0s\n"
     ]
    },
    {
     "name": "stdout",
     "output_type": "stream",
     "text": [
      "[CV] ........ C=500, gamma=0.1, kernel=rbf, score=0.813, total=   3.3s\n",
      "[CV] C=500, gamma=0.1, kernel=rbf ....................................\n"
     ]
    },
    {
     "name": "stderr",
     "output_type": "stream",
     "text": [
      "[Parallel(n_jobs=1)]: Done   2 out of   2 | elapsed:    6.6s remaining:    0.0s\n"
     ]
    },
    {
     "name": "stdout",
     "output_type": "stream",
     "text": [
      "[CV] ........ C=500, gamma=0.1, kernel=rbf, score=0.773, total=   3.6s\n",
      "[CV] C=500, gamma=0.1, kernel=rbf ....................................\n",
      "[CV] ........ C=500, gamma=0.1, kernel=rbf, score=0.782, total=   4.1s\n",
      "[CV] C=500, gamma=0.1, kernel=rbf ....................................\n",
      "[CV] ........ C=500, gamma=0.1, kernel=rbf, score=0.792, total=   3.3s\n",
      "[CV] C=500, gamma=1, kernel=rbf ......................................\n",
      "[CV] .......... C=500, gamma=1, kernel=rbf, score=0.872, total=   4.6s\n",
      "[CV] C=500, gamma=1, kernel=rbf ......................................\n",
      "[CV] .......... C=500, gamma=1, kernel=rbf, score=0.891, total=   5.8s\n",
      "[CV] C=500, gamma=1, kernel=rbf ......................................\n",
      "[CV] .......... C=500, gamma=1, kernel=rbf, score=0.886, total=   5.1s\n",
      "[CV] C=500, gamma=1, kernel=rbf ......................................\n",
      "[CV] .......... C=500, gamma=1, kernel=rbf, score=0.886, total=   5.5s\n",
      "[CV] C=500, gamma=1, kernel=rbf ......................................\n",
      "[CV] .......... C=500, gamma=1, kernel=rbf, score=0.882, total=   4.8s\n",
      "[CV] C=500, gamma=1.1, kernel=rbf ....................................\n",
      "[CV] ........ C=500, gamma=1.1, kernel=rbf, score=0.878, total=   4.4s\n",
      "[CV] C=500, gamma=1.1, kernel=rbf ....................................\n",
      "[CV] ........ C=500, gamma=1.1, kernel=rbf, score=0.897, total=   4.5s\n",
      "[CV] C=500, gamma=1.1, kernel=rbf ....................................\n",
      "[CV] ........ C=500, gamma=1.1, kernel=rbf, score=0.886, total=   4.2s\n",
      "[CV] C=500, gamma=1.1, kernel=rbf ....................................\n",
      "[CV] ........ C=500, gamma=1.1, kernel=rbf, score=0.887, total=   4.5s\n",
      "[CV] C=500, gamma=1.1, kernel=rbf ....................................\n",
      "[CV] ........ C=500, gamma=1.1, kernel=rbf, score=0.892, total=   4.7s\n",
      "[CV] C=500, gamma=2, kernel=rbf ......................................\n",
      "[CV] .......... C=500, gamma=2, kernel=rbf, score=0.877, total=   4.5s\n",
      "[CV] C=500, gamma=2, kernel=rbf ......................................\n",
      "[CV] .......... C=500, gamma=2, kernel=rbf, score=0.886, total=   5.0s\n",
      "[CV] C=500, gamma=2, kernel=rbf ......................................\n",
      "[CV] .......... C=500, gamma=2, kernel=rbf, score=0.883, total=   4.2s\n",
      "[CV] C=500, gamma=2, kernel=rbf ......................................\n",
      "[CV] .......... C=500, gamma=2, kernel=rbf, score=0.883, total=   4.2s\n",
      "[CV] C=500, gamma=2, kernel=rbf ......................................\n",
      "[CV] .......... C=500, gamma=2, kernel=rbf, score=0.894, total=   4.7s\n",
      "[CV] C=1000, gamma=0.1, kernel=rbf ...................................\n",
      "[CV] ....... C=1000, gamma=0.1, kernel=rbf, score=0.805, total=   3.8s\n",
      "[CV] C=1000, gamma=0.1, kernel=rbf ...................................\n",
      "[CV] ....... C=1000, gamma=0.1, kernel=rbf, score=0.829, total=   3.6s\n",
      "[CV] C=1000, gamma=0.1, kernel=rbf ...................................\n",
      "[CV] ....... C=1000, gamma=0.1, kernel=rbf, score=0.793, total=   3.6s\n",
      "[CV] C=1000, gamma=0.1, kernel=rbf ...................................\n",
      "[CV] ....... C=1000, gamma=0.1, kernel=rbf, score=0.803, total=   3.6s\n",
      "[CV] C=1000, gamma=0.1, kernel=rbf ...................................\n",
      "[CV] ....... C=1000, gamma=0.1, kernel=rbf, score=0.816, total=   3.9s\n",
      "[CV] C=1000, gamma=1, kernel=rbf .....................................\n",
      "[CV] ......... C=1000, gamma=1, kernel=rbf, score=0.883, total=   5.9s\n",
      "[CV] C=1000, gamma=1, kernel=rbf .....................................\n",
      "[CV] ......... C=1000, gamma=1, kernel=rbf, score=0.899, total=   6.2s\n",
      "[CV] C=1000, gamma=1, kernel=rbf .....................................\n",
      "[CV] ......... C=1000, gamma=1, kernel=rbf, score=0.890, total=   6.1s\n",
      "[CV] C=1000, gamma=1, kernel=rbf .....................................\n",
      "[CV] ......... C=1000, gamma=1, kernel=rbf, score=0.889, total=   5.7s\n",
      "[CV] C=1000, gamma=1, kernel=rbf .....................................\n",
      "[CV] ......... C=1000, gamma=1, kernel=rbf, score=0.893, total=   6.0s\n",
      "[CV] C=1000, gamma=1.1, kernel=rbf ...................................\n",
      "[CV] ....... C=1000, gamma=1.1, kernel=rbf, score=0.881, total=   6.1s\n",
      "[CV] C=1000, gamma=1.1, kernel=rbf ...................................\n",
      "[CV] ....... C=1000, gamma=1.1, kernel=rbf, score=0.897, total=   6.0s\n",
      "[CV] C=1000, gamma=1.1, kernel=rbf ...................................\n",
      "[CV] ....... C=1000, gamma=1.1, kernel=rbf, score=0.889, total=   5.9s\n",
      "[CV] C=1000, gamma=1.1, kernel=rbf ...................................\n",
      "[CV] ....... C=1000, gamma=1.1, kernel=rbf, score=0.889, total=   6.1s\n",
      "[CV] C=1000, gamma=1.1, kernel=rbf ...................................\n",
      "[CV] ....... C=1000, gamma=1.1, kernel=rbf, score=0.892, total=   5.9s\n",
      "[CV] C=1000, gamma=2, kernel=rbf .....................................\n",
      "[CV] ......... C=1000, gamma=2, kernel=rbf, score=0.866, total=   5.9s\n",
      "[CV] C=1000, gamma=2, kernel=rbf .....................................\n",
      "[CV] ......... C=1000, gamma=2, kernel=rbf, score=0.888, total=   6.1s\n",
      "[CV] C=1000, gamma=2, kernel=rbf .....................................\n",
      "[CV] ......... C=1000, gamma=2, kernel=rbf, score=0.890, total=   6.3s\n",
      "[CV] C=1000, gamma=2, kernel=rbf .....................................\n",
      "[CV] ......... C=1000, gamma=2, kernel=rbf, score=0.890, total=   6.1s\n",
      "[CV] C=1000, gamma=2, kernel=rbf .....................................\n",
      "[CV] ......... C=1000, gamma=2, kernel=rbf, score=0.889, total=   5.7s\n",
      "[CV] C=2000, gamma=0.1, kernel=rbf ...................................\n",
      "[CV] ....... C=2000, gamma=0.1, kernel=rbf, score=0.813, total=   5.2s\n",
      "[CV] C=2000, gamma=0.1, kernel=rbf ...................................\n",
      "[CV] ....... C=2000, gamma=0.1, kernel=rbf, score=0.837, total=   5.0s\n",
      "[CV] C=2000, gamma=0.1, kernel=rbf ...................................\n",
      "[CV] ....... C=2000, gamma=0.1, kernel=rbf, score=0.810, total=   5.0s\n",
      "[CV] C=2000, gamma=0.1, kernel=rbf ...................................\n",
      "[CV] ....... C=2000, gamma=0.1, kernel=rbf, score=0.813, total=   4.9s\n",
      "[CV] C=2000, gamma=0.1, kernel=rbf ...................................\n",
      "[CV] ....... C=2000, gamma=0.1, kernel=rbf, score=0.829, total=   5.1s\n",
      "[CV] C=2000, gamma=1, kernel=rbf .....................................\n",
      "[CV] ......... C=2000, gamma=1, kernel=rbf, score=0.877, total=   8.4s\n",
      "[CV] C=2000, gamma=1, kernel=rbf .....................................\n",
      "[CV] ......... C=2000, gamma=1, kernel=rbf, score=0.898, total=   8.9s\n",
      "[CV] C=2000, gamma=1, kernel=rbf .....................................\n",
      "[CV] ......... C=2000, gamma=1, kernel=rbf, score=0.890, total=   8.4s\n",
      "[CV] C=2000, gamma=1, kernel=rbf .....................................\n",
      "[CV] ......... C=2000, gamma=1, kernel=rbf, score=0.894, total=   8.9s\n",
      "[CV] C=2000, gamma=1, kernel=rbf .....................................\n",
      "[CV] ......... C=2000, gamma=1, kernel=rbf, score=0.894, total=   8.7s\n",
      "[CV] C=2000, gamma=1.1, kernel=rbf ...................................\n",
      "[CV] ....... C=2000, gamma=1.1, kernel=rbf, score=0.881, total=   8.5s\n",
      "[CV] C=2000, gamma=1.1, kernel=rbf ...................................\n",
      "[CV] ....... C=2000, gamma=1.1, kernel=rbf, score=0.900, total=   8.9s\n",
      "[CV] C=2000, gamma=1.1, kernel=rbf ...................................\n",
      "[CV] ....... C=2000, gamma=1.1, kernel=rbf, score=0.893, total=   8.2s\n",
      "[CV] C=2000, gamma=1.1, kernel=rbf ...................................\n",
      "[CV] ....... C=2000, gamma=1.1, kernel=rbf, score=0.897, total=   8.9s\n",
      "[CV] C=2000, gamma=1.1, kernel=rbf ...................................\n",
      "[CV] ....... C=2000, gamma=1.1, kernel=rbf, score=0.895, total=   8.9s\n",
      "[CV] C=2000, gamma=2, kernel=rbf .....................................\n",
      "[CV] ......... C=2000, gamma=2, kernel=rbf, score=0.867, total=   8.2s\n",
      "[CV] C=2000, gamma=2, kernel=rbf .....................................\n",
      "[CV] ......... C=2000, gamma=2, kernel=rbf, score=0.887, total=   9.0s\n",
      "[CV] C=2000, gamma=2, kernel=rbf .....................................\n",
      "[CV] ......... C=2000, gamma=2, kernel=rbf, score=0.885, total=   8.1s\n",
      "[CV] C=2000, gamma=2, kernel=rbf .....................................\n",
      "[CV] ......... C=2000, gamma=2, kernel=rbf, score=0.887, total=   7.5s\n",
      "[CV] C=2000, gamma=2, kernel=rbf .....................................\n",
      "[CV] ......... C=2000, gamma=2, kernel=rbf, score=0.882, total=   7.9s\n",
      "[CV] C=3000, gamma=0.1, kernel=rbf ...................................\n"
     ]
    },
    {
     "name": "stdout",
     "output_type": "stream",
     "text": [
      "[CV] ....... C=3000, gamma=0.1, kernel=rbf, score=0.821, total=   6.3s\n",
      "[CV] C=3000, gamma=0.1, kernel=rbf ...................................\n",
      "[CV] ....... C=3000, gamma=0.1, kernel=rbf, score=0.841, total=   6.7s\n",
      "[CV] C=3000, gamma=0.1, kernel=rbf ...................................\n",
      "[CV] ....... C=3000, gamma=0.1, kernel=rbf, score=0.824, total=   6.5s\n",
      "[CV] C=3000, gamma=0.1, kernel=rbf ...................................\n",
      "[CV] ....... C=3000, gamma=0.1, kernel=rbf, score=0.824, total=   6.1s\n",
      "[CV] C=3000, gamma=0.1, kernel=rbf ...................................\n",
      "[CV] ....... C=3000, gamma=0.1, kernel=rbf, score=0.838, total=   6.1s\n",
      "[CV] C=3000, gamma=1, kernel=rbf .....................................\n",
      "[CV] ......... C=3000, gamma=1, kernel=rbf, score=0.882, total=  10.5s\n",
      "[CV] C=3000, gamma=1, kernel=rbf .....................................\n",
      "[CV] ......... C=3000, gamma=1, kernel=rbf, score=0.893, total=  10.7s\n",
      "[CV] C=3000, gamma=1, kernel=rbf .....................................\n",
      "[CV] ......... C=3000, gamma=1, kernel=rbf, score=0.894, total=  10.8s\n",
      "[CV] C=3000, gamma=1, kernel=rbf .....................................\n",
      "[CV] ......... C=3000, gamma=1, kernel=rbf, score=0.895, total=  10.5s\n",
      "[CV] C=3000, gamma=1, kernel=rbf .....................................\n",
      "[CV] ......... C=3000, gamma=1, kernel=rbf, score=0.895, total=  11.7s\n",
      "[CV] C=3000, gamma=1.1, kernel=rbf ...................................\n",
      "[CV] ....... C=3000, gamma=1.1, kernel=rbf, score=0.879, total=  11.4s\n",
      "[CV] C=3000, gamma=1.1, kernel=rbf ...................................\n",
      "[CV] ....... C=3000, gamma=1.1, kernel=rbf, score=0.892, total=  10.4s\n",
      "[CV] C=3000, gamma=1.1, kernel=rbf ...................................\n",
      "[CV] ....... C=3000, gamma=1.1, kernel=rbf, score=0.893, total=  10.1s\n",
      "[CV] C=3000, gamma=1.1, kernel=rbf ...................................\n",
      "[CV] ....... C=3000, gamma=1.1, kernel=rbf, score=0.887, total=  10.6s\n",
      "[CV] C=3000, gamma=1.1, kernel=rbf ...................................\n",
      "[CV] ....... C=3000, gamma=1.1, kernel=rbf, score=0.895, total=  10.2s\n",
      "[CV] C=3000, gamma=2, kernel=rbf .....................................\n",
      "[CV] ......... C=3000, gamma=2, kernel=rbf, score=0.870, total=   8.5s\n",
      "[CV] C=3000, gamma=2, kernel=rbf .....................................\n",
      "[CV] ......... C=3000, gamma=2, kernel=rbf, score=0.886, total=   9.1s\n",
      "[CV] C=3000, gamma=2, kernel=rbf .....................................\n",
      "[CV] ......... C=3000, gamma=2, kernel=rbf, score=0.886, total=  10.3s\n",
      "[CV] C=3000, gamma=2, kernel=rbf .....................................\n",
      "[CV] ......... C=3000, gamma=2, kernel=rbf, score=0.883, total=   9.1s\n",
      "[CV] C=3000, gamma=2, kernel=rbf .....................................\n",
      "[CV] ......... C=3000, gamma=2, kernel=rbf, score=0.879, total=   9.2s\n"
     ]
    },
    {
     "name": "stderr",
     "output_type": "stream",
     "text": [
      "[Parallel(n_jobs=1)]: Done  80 out of  80 | elapsed:  8.9min finished\n"
     ]
    },
    {
     "name": "stdout",
     "output_type": "stream",
     "text": [
      "{'C': 2000, 'gamma': 1.1, 'kernel': 'rbf'}\n",
      "SVC(C=2000, gamma=1.1, random_state=14)\n",
      "{'C': 2000, 'gamma': 1.1, 'kernel': 'rbf'} : 0.8930816231787105\n"
     ]
    }
   ],
   "source": [
    "\n",
    "grilla_parametros = {'C': [500, 1000, 2000,3000], 'gamma': [0.1 ,1, 1.1, 2], 'kernel':['rbf']} \n",
    "  \n",
    "grid = GridSearchCV(SVC(random_state=14), grilla_parametros, refit = True, verbose = 3)\n",
    "  \n",
    "grid.fit(X_train, y_train)\n",
    "\n",
    "\n",
    "print(grid.best_params_)\n",
    "  \n",
    "print(grid.best_estimator_)\n",
    "\n",
    "print(grid.best_params_, \":\", grid.best_score_)\n",
    "\n",
    "\n"
   ]
  },
  {
   "cell_type": "code",
   "execution_count": 8,
   "metadata": {
    "scrolled": true
   },
   "outputs": [
    {
     "name": "stdout",
     "output_type": "stream",
     "text": [
      "kernel: rbf\n",
      "gamma: 1.1\n",
      "C: 2000\n"
     ]
    }
   ],
   "source": [
    "print(f\"kernel: {grid.best_params_['kernel']}\")\n",
    "print(f\"gamma: {grid.best_params_['gamma']}\")\n",
    "print(f\"C: {grid.best_params_['C']}\")"
   ]
  },
  {
   "cell_type": "code",
   "execution_count": null,
   "metadata": {},
   "outputs": [],
   "source": []
  },
  {
   "cell_type": "code",
   "execution_count": 9,
   "metadata": {
    "scrolled": false
   },
   "outputs": [
    {
     "name": "stdout",
     "output_type": "stream",
     "text": [
      "################# Puntuación ##################\n",
      "################### 0.9079 ####################\n",
      "    H1_predicción  H2_predicción  H3_predicción\n",
      "H1            574             14             34\n",
      "H2             30            526             26\n",
      "H3             45             17            537\n",
      "\n",
      "\n",
      "#####################################################\n",
      "##################### Scores ########################\n",
      "#####################################################\n",
      "\n",
      "              precision    recall  f1-score   support\n",
      "\n",
      "          H1       0.88      0.92      0.90       622\n",
      "          H2       0.94      0.90      0.92       582\n",
      "          H3       0.90      0.90      0.90       599\n",
      "\n",
      "    accuracy                           0.91      1803\n",
      "   macro avg       0.91      0.91      0.91      1803\n",
      "weighted avg       0.91      0.91      0.91      1803\n",
      "\n"
     ]
    }
   ],
   "source": [
    "clf_ = SVC(random_state=14, C=grid.best_params_['C'],\n",
    "           gamma=grid.best_params_['gamma'],\n",
    "           kernel=grid.best_params_['kernel'])\n",
    "\n",
    "clf_.fit(X_train, y_train)\n",
    "\n",
    "prediccion =clf_.predict(X_test)\n",
    "\n",
    "score_ = round(accuracy_score(y_test, prediccion),4)\n",
    "print('################# Puntuación ##################')\n",
    "print('###################',score_,'####################')\n",
    "\n",
    "#Matriz de confusión\n",
    "conf_matrix = confusion_matrix(y_test, prediccion,labels=['H1','H2','H3'])\n",
    "print(pd.DataFrame(data=conf_matrix, index=['H1','H2','H3'], columns=['H1_predicción','H2_predicción','H3_predicción']))\n",
    "\n",
    "print('')\n",
    "print('')\n",
    "print('#####################################################')\n",
    "print('##################### Scores ########################')\n",
    "print('#####################################################')\n",
    "print('')\n",
    "print(classification_report(y_test, prediccion))"
   ]
  }
 ],
 "metadata": {
  "kernelspec": {
   "display_name": "Python 3",
   "language": "python",
   "name": "python3"
  },
  "language_info": {
   "codemirror_mode": {
    "name": "ipython",
    "version": 3
   },
   "file_extension": ".py",
   "mimetype": "text/x-python",
   "name": "python",
   "nbconvert_exporter": "python",
   "pygments_lexer": "ipython3",
   "version": "3.6.12"
  }
 },
 "nbformat": 4,
 "nbformat_minor": 4
}
